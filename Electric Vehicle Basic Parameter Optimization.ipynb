{
 "cells": [
  {
   "cell_type": "code",
   "execution_count": 7,
   "id": "0df982cd-95d9-48b6-bd2d-99aaf857112d",
   "metadata": {},
   "outputs": [
    {
     "name": "stdout",
     "output_type": "stream",
     "text": [
      "Optimal Girdi Parametreleri:\n",
      "Akım Değeri (I): 10.00 A\n",
      "Voltaj (V): 100.00 V\n",
      "Yakıt Hücresi Kapasitesi (P_cell): 300.00 W\n",
      "Yakıt Hücresi Maliyeti (C_cell): 10000.00 TL\n",
      "\n",
      "Optimal Çıktı Parametreleri:\n",
      "Motor Gücü (P_motor): 100.00 W\n",
      "RPM (n): 1000.00 devir/dakika\n",
      "Tork (τ): 0.70 Nm\n",
      "\n",
      "Maliyet/Verimlilik Oranı: 23.33\n"
     ]
    }
   ],
   "source": [
    "import numpy as np\n",
    "import random\n",
    "from scipy.optimize import differential_evolution\n",
    "\n",
    "# Rastgele veri üretimi\n",
    "np.random.seed(42)\n",
    "num_samples = 10\n",
    "\n",
    "# Girdi parametreleri\n",
    "akim_degeri = np.random.uniform(10, 100, num_samples)  # Amper\n",
    "voltaj = np.random.uniform(100, 500, num_samples)  # Volt\n",
    "yakıt_hücresi_kapasitesi = np.random.uniform(50, 300, num_samples)  # Watt\n",
    "yakıt_hücresi_maliyeti = np.random.uniform(1000, 10000, num_samples)  # TL\n",
    "\n",
    "# Çıktı parametreleri\n",
    "motor_gucu = np.random.uniform(100, 1000, num_samples)  # Watt\n",
    "rpm = np.random.uniform(1000, 5000, num_samples)  # Devir/dakika\n",
    "tork = np.random.uniform(10, 50, num_samples)  # Nm\n",
    "motor_verimliligi = np.random.uniform(0.7, 0.95, num_samples)  # Oran\n",
    "\n",
    "# Amaç fonksiyonu: maliyet/verimlilik oranını maksimize etmek\n",
    "def objective_function(x):\n",
    "    maliyet = x[0] * x[1]  # Maliyet = Akım * Voltaj\n",
    "    verimlilik = (x[2] * x[3]) / (x[4] * x[5] * x[6])  # Verimlilik = Motor Gücü * Tork / (Yakıt Hücresi Kapasitesi * RPM * Motor Verimliliği)\n",
    "    return maliyet / verimlilik  # Maliyet/Verimlilik oranını minimize et\n",
    "\n",
    "# Kısıtlar: Akım ve voltaj aralıkları\n",
    "bounds = [(10, 100), (100, 500), (50, 300), (1000, 10000), (100, 1000), (1000, 5000), (0.7, 0.95)]\n",
    "\n",
    "# Genetik algoritma ile optimizasyon\n",
    "result = differential_evolution(objective_function, bounds)\n",
    "\n",
    "# Sonuçların gösterimi\n",
    "optimal_values = result.x\n",
    "optimal_cost = result.fun\n",
    "\n",
    "print(\"Optimal Girdi Parametreleri:\")\n",
    "print(f\"Akım Değeri (I): {optimal_values[0]:.2f} A\")\n",
    "print(f\"Voltaj (V): {optimal_values[1]:.2f} V\")\n",
    "print(f\"Yakıt Hücresi Kapasitesi (P_cell): {optimal_values[2]:.2f} W\")\n",
    "print(f\"Yakıt Hücresi Maliyeti (C_cell): {optimal_values[3]:.2f} TL\")\n",
    "\n",
    "print(\"\\nOptimal Çıktı Parametreleri:\")\n",
    "print(f\"Motor Gücü (P_motor): {optimal_values[4]:.2f} W\")\n",
    "print(f\"RPM (n): {optimal_values[5]:.2f} devir/dakika\")\n",
    "print(f\"Tork (τ): {optimal_values[6]:.2f} Nm\")\n",
    "\n",
    "print(f\"\\nMaliyet/Verimlilik Oranı: {optimal_cost:.2f}\")"
   ]
  }
 ],
 "metadata": {
  "kernelspec": {
   "display_name": "Python 3 (ipykernel)",
   "language": "python",
   "name": "python3"
  },
  "language_info": {
   "codemirror_mode": {
    "name": "ipython",
    "version": 3
   },
   "file_extension": ".py",
   "mimetype": "text/x-python",
   "name": "python",
   "nbconvert_exporter": "python",
   "pygments_lexer": "ipython3",
   "version": "3.12.4"
  }
 },
 "nbformat": 4,
 "nbformat_minor": 5
}
